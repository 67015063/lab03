{
  "nbformat": 4,
  "nbformat_minor": 0,
  "metadata": {
    "colab": {
      "provenance": [],
      "include_colab_link": true
    },
    "kernelspec": {
      "name": "python3",
      "display_name": "Python 3"
    },
    "language_info": {
      "name": "python"
    }
  },
  "cells": [
    {
      "cell_type": "markdown",
      "metadata": {
        "id": "view-in-github",
        "colab_type": "text"
      },
      "source": [
        "<a href=\"https://colab.research.google.com/github/67015063/lab03/blob/main/Lab_4.ipynb\" target=\"_parent\"><img src=\"https://colab.research.google.com/assets/colab-badge.svg\" alt=\"Open In Colab\"/></a>"
      ]
    },
    {
      "cell_type": "markdown",
      "source": [
        "4.1 2520 คือ ตัวเลขที่น้อยที่สุด ที่สามารถหารด้วยตัวเลขทุกตัวตั้งแต่ 1-10 จงหาจำนวนเต็มบวกที่น้อยที่สุดที่หารด้วยตัวเลขทุกตัวตั้งแต่ 1-20\n",
        "\n",
        "15 = 360360\n",
        "\n",
        "20 = 232792560\n",
        "\n",
        "ปล. ห้าม import math"
      ],
      "metadata": {
        "id": "-bpz7hteQPdz"
      }
    },
    {
      "cell_type": "code",
      "execution_count": null,
      "metadata": {
        "id": "HSZUXcF2QMVn",
        "outputId": "16648756-8d0e-47f5-f649-2a92e8b974b2",
        "colab": {
          "base_uri": "https://localhost:8080/"
        }
      },
      "outputs": [
        {
          "output_type": "stream",
          "name": "stdout",
          "text": [
            "10\n",
            "2520\n"
          ]
        }
      ],
      "source": [
        "num = int(input(\"\"))\n",
        "m = range(1,num+1)\n",
        "lst = m[0]\n",
        "for i in range(1,len(m)) :\n",
        "  n = m[i]\n",
        "  a = lst\n",
        "  b = n\n",
        "  while b != 0 :\n",
        "    a,b = b,a % b\n",
        "  c = a\n",
        "  lst = (lst*n)//c\n",
        "print(lst)"
      ]
    },
    {
      "cell_type": "markdown",
      "source": [
        "4.2 จำนวนเฉพาะ (Prime Number) คือตัวเลขที่มีแต่ 1 กับตัวมันเองที่หารลงตัว โดยจำนวนเฉพาะ 6 ตัวแรกคือ 2, 3, 5, 7, 11, 13 โดยจำนวนเฉพาะตัวที่ 6 คือ 13 จงหาจำนวนเฉพาะตัวที่ 101\n",
        "\n",
        "=> 547"
      ],
      "metadata": {
        "id": "Wq1EFYHUWNOA"
      }
    },
    {
      "cell_type": "code",
      "source": [
        "lst = []\n",
        "for i in range(2,1000) :\n",
        "  prime = True\n",
        "  for j in range(2, int(i ** 0.5) + 1):\n",
        "    if i % j == 0:\n",
        "      prime = False\n",
        "      break\n",
        "  if prime:\n",
        "    lst.append(i)\n",
        "print(lst[100])"
      ],
      "metadata": {
        "colab": {
          "base_uri": "https://localhost:8080/"
        },
        "id": "cpMa6Vp0Vz_L",
        "outputId": "2d59e722-8c30-4081-eff9-47426442aad2"
      },
      "execution_count": 1,
      "outputs": [
        {
          "output_type": "stream",
          "name": "stdout",
          "text": [
            "547\n"
          ]
        }
      ]
    },
    {
      "cell_type": "markdown",
      "source": [
        "1.\tกำหนดให้มี List หนึ่งประกอบด้วยตัวเลขจำนวนหนึ่ง และ ให้รับตัวเลขจำนวน 1 จำนวน จากนั้นให้หาว่าใน List มีตัวเลข 2 จำนวนใดที่บวกกันเท่ากับตัวเลขที่รับมา ให้แสดงคำตอบเป็น List เช่น Output: [0,1] โดยอาจมีมากกว่า 1 คำตอบ\n",
        "\n",
        "ตัวอย่าง list : [2, 7, 11, 15]\n",
        "\n",
        "Input : 9\n",
        "\n",
        "Output : 2 + 7 = 9 (ถ้าไม่มีให้บอก None)\n"
      ],
      "metadata": {
        "id": "-pUpw-m_WqFG"
      }
    },
    {
      "cell_type": "code",
      "source": [
        "num = int(input(\"\"))\n",
        "re = []\n",
        "list = [2, 7, 11, 15,1,3,4,6]\n",
        "for i in range(len(list)) :\n",
        "  for j in range(i+1,len(list)) :\n",
        "    if list[i] + list[j] == num :\n",
        "      re.append(list[i])\n",
        "      re.append(list[j])\n",
        "  i+=1\n",
        "if re :\n",
        "  print(f\"{re[0]}+{re[1]} = {num}\")\n",
        "  if len(re) > 2 :\n",
        "    print(f\"{re[2]}+{re[3]} = {num}\")\n",
        "else :\n",
        "  print(\"None\")\n"
      ],
      "metadata": {
        "id": "s3djwBi4ks1g",
        "outputId": "f8f7de20-bfe4-461c-c2df-384a96f71a1e",
        "colab": {
          "base_uri": "https://localhost:8080/"
        }
      },
      "execution_count": null,
      "outputs": [
        {
          "output_type": "stream",
          "name": "stdout",
          "text": [
            "9\n",
            "2+7 = 9\n",
            "3+6 = 9\n"
          ]
        }
      ]
    },
    {
      "cell_type": "markdown",
      "source": [
        "2.\tให้เขียนโปรแกรมรับข้อมูล 1 บรรทัด ประกอบด้วยตัวเลข 1 หลัก จำนวนไม่เกิน 10 ตัว คั่นด้วยช่องว่าง จากนั้นให้นำตัวเลขที่รับเข้ามาเรียงกัน และหาลำดับการเรียงที่ทำให้มีค่าน้อยที่สุด โดยต้องไม่ขึ้นต้นด้วย 0\n",
        "\n",
        "Input : 9 4 6 2  \n",
        "\n",
        "คำตอบ 2469\n",
        "\n",
        "Input : 3 0 8 1 3 3\n",
        "\n",
        "คำตอบ : 103338\n"
      ],
      "metadata": {
        "id": "_3yLG291lSFy"
      }
    },
    {
      "cell_type": "code",
      "source": [
        "num = input(\"only Enter 10 num  :\").split()\n",
        "num.sort()\n",
        "if num[0] == '0':\n",
        "  for i in range(1, len(num)):\n",
        "    if num[i] != '0':\n",
        "      num[0], num[i] = num[i], num[0]\n",
        "      break\n",
        "re = ''.join(num)\n",
        "print(re)"
      ],
      "metadata": {
        "id": "ACtXvMEyli0L",
        "outputId": "e0ecc185-4a7d-4211-cc77-1e5452574536",
        "colab": {
          "base_uri": "https://localhost:8080/"
        }
      },
      "execution_count": 3,
      "outputs": [
        {
          "output_type": "stream",
          "name": "stdout",
          "text": [
            "only Enter 10 num  :9 4 6 2\n",
            "2469\n"
          ]
        }
      ]
    },
    {
      "cell_type": "markdown",
      "source": [
        "3.\tจากตัวเลขต่อไปนี้ ตัวเลขติดกัน 4 ตัวที่เมื่อนำมาคูณกันแล้วมีค่ามากที่สุดคือ 9 × 9 × 8 × 9 = 5832\n",
        "\n",
        "73167176531330624919225119674426574742355349194934\n",
        "96983520312774506326239578318016984801869478851843\n",
        "85861560789112949495459501737958331952853208805511\n",
        "12540698747158523863050715693290963295227443043557\n",
        "66896648950445244523161731856403098711121722383113\n",
        "62229893423380308135336276614282806444486645238749\n",
        "30358907296290491560440772390713810515859307960866\n",
        "70172427121883998797908792274921901699720888093776\n",
        "65727333001053367881220235421809751254540594752243\n",
        "52584907711670556013604839586446706324415722155397\n",
        "53697817977846174064955149290862569321978468622482\n",
        "83972241375657056057490261407972968652414535100474\n",
        "82166370484403199890008895243450658541227588666881\n",
        "16427171479924442928230863465674813919123162824586\n",
        "17866458359124566529476545682848912883142607690042\n",
        "24219022671055626321111109370544217506941658960408\n",
        "07198403850962455444362981230987879927244284909188\n",
        "84580156166097919133875499200524063689912560717606\n",
        "05886116467109405077541002256983155200055935729725\n",
        "71636269561882670428252483600823257530420752963450\n",
        "\n",
        "จงหาเลขติดกัน 8 ตัวที่เมื่อนำมาคูณกันแล้วมีค่ามากที่สุด และเป็นเลขอะไร ผลคูณเท่ากับเท่าไร\n",
        "\n",
        "The maximum product is: 7838208\n",
        "The digits are: 88399879\n",
        "\n",
        "\n",
        "\n"
      ],
      "metadata": {
        "id": "Gv8aIY7dliSY"
      }
    },
    {
      "cell_type": "code",
      "source": [
        "num = (\"7316717653133062491922511967442657474235534919493496983520312774506326239578318016984801869478851843858615607891129494954595017379583319528532088055111254069874715852386305071569329096329522744304355766896648950445244523161731856403098711121722383113622298934233803081353362766142828064444866452387493035890729629049156044077239071381051585930796086670172427121883998797908792274921901699720888093776657273330010533678812202354218097512545405947522435258490771167055601360483958644670632441572215539753697817977846174064955149290862569321978468622482839722413756570560574902614079729686524145351004748216637048440319989000889524345065854122758866688116427171479924442928230863465674813919123162824586178664583591245665294765456828489128831426076900422421902267105562632111110937054421750694165896040807198403850962455444362981230987879927244284909188845801561660979191338754992005240636899125607176060588611646710940507754100225698315520005593572972571636269561882670428252483600823257530420752963450\")\n",
        "max_pro = 0\n",
        "max_dig = \"\"\n",
        "for i in range(len(num) - 7):\n",
        "  dig = num[i:i + 8]\n",
        "  pro = 1\n",
        "  for digit in dig:\n",
        "    pro *= int(digit)\n",
        "    if pro > max_pro:\n",
        "      max_pro = pro\n",
        "      max_dig = dig\n",
        "print(f\"The maximum product is: {max_pro} The digits are: {max_dig}\")"
      ],
      "metadata": {
        "id": "wvVqGMknmBu5",
        "outputId": "01e4cc36-5385-4708-a014-9961cbf292ff",
        "colab": {
          "base_uri": "https://localhost:8080/"
        }
      },
      "execution_count": 8,
      "outputs": [
        {
          "output_type": "stream",
          "name": "stdout",
          "text": [
            "The maximum product is: 7838208 The digits are: 88399879\n"
          ]
        }
      ]
    },
    {
      "cell_type": "markdown",
      "source": [
        "4.\tตัวเลข palindrome คือตัวเลขที่อ่านได้ทั้ง 2 ทาง แล้วมีค่าเท่ากัน เช่น 9009 โดย 9009 คือ palindrome ที่เกิดจากการคูณของตัวเลข 2 หลักที่มากที่สุด คือ 91x99 จงหา palindrome ที่มากที่สุดของตัวเลข 3 หลัก\n",
        "\n",
        "The largest palindrome product of 3-digit numbers is: 906609\n"
      ],
      "metadata": {
        "id": "fjy5LNC7m0We"
      }
    },
    {
      "cell_type": "code",
      "source": [
        "max = 3\n",
        "numbers = [\"0\", \"1\", \"2\", \"3\", \"4\", \"5\", \"6\", \"7\", \"8\", \"9\"]\n",
        "numbers = range(1, (10**max))\n",
        "num1 = 0\n",
        "num2 = 0\n",
        "max_palindrome = 0\n",
        "for num1 in numbers:\n",
        "  for num2 in numbers:\n",
        "    if len(str(num1)) > 1 and len(str(num2)) > 1:\n",
        "      product_result: int = num1 * num2\n",
        "      if str(product_result) == str(product_result)[::-1]:\n",
        "        if product_result > max_palindrome:\n",
        "          num1 = num1\n",
        "          num2 = num2\n",
        "          max_palindrome = num1 * num2\n",
        "print(f\"The largest palindrome product of 3-digit numbers is: {max_palindrome} \")"
      ],
      "metadata": {
        "id": "y-QY3hzVmsud",
        "outputId": "98ffed8c-3821-4f68-bd92-462151c29525",
        "colab": {
          "base_uri": "https://localhost:8080/"
        }
      },
      "execution_count": 12,
      "outputs": [
        {
          "output_type": "stream",
          "name": "stdout",
          "text": [
            "The largest palindrome product of 3-digit numbers is: 906609 \n"
          ]
        }
      ]
    },
    {
      "cell_type": "markdown",
      "source": [
        "5.\tกำหนดให้ string มีเพียงสัญลักษณ์ '(', ')', '{', '}', '[' และ ']' ให้ตรวจสอบว่า String ถูกต้อง โดย เมื่อมีวงเล็บเปิด จะต้องมีวงเล็บปิดที่เป็นชนิดเดียวกัน จำนวนเท่ากันที่เป็นคู่ของมัน\n",
        "\n",
        "```\n",
        "Input: s = \"()\"\n",
        "Output: true\n",
        "Input: s = \"()[]{}\"\n",
        "Output: true\n",
        "Input: s = \"[()]{}\"\n",
        "Output: true\n",
        "Input: s = \"(]\"\n",
        "Output: false\n",
        "```\n",
        "\n",
        "\n"
      ],
      "metadata": {
        "id": "rUZvLJ-JnGJY"
      }
    },
    {
      "cell_type": "code",
      "source": [
        "s = input().strip()\n",
        "out = []\n",
        "a = {')': '(', '}': '{', ']': '['}\n",
        "for i in s:\n",
        "  if i in '({[':\n",
        "    out.append(i)\n",
        "  elif i in ')}]':\n",
        "    if not out or out[-1] != a[i]:\n",
        "      print(\"False\")\n",
        "      break\n",
        "    out.pop()\n",
        "else:\n",
        "  if not out:\n",
        "    print(\"True\")\n",
        "  else:\n",
        "    print(\"False\")"
      ],
      "metadata": {
        "id": "Ku8ts4x7nk1y",
        "outputId": "b7d59c6b-f598-4f9a-c1bb-46cab2198a87",
        "colab": {
          "base_uri": "https://localhost:8080/"
        }
      },
      "execution_count": 16,
      "outputs": [
        {
          "output_type": "stream",
          "name": "stdout",
          "text": [
            "{]\n",
            "False\n"
          ]
        }
      ]
    },
    {
      "cell_type": "markdown",
      "source": [
        "6.\tกำหนดให้รับข้อมูล Integer (เป็นบวกหรือลบก็ได้) จากนั้นให้แสดงผลลัพธ์ที่ reverse ตัวเลขตามตัวอย่าง\n",
        "\n",
        "```\n",
        "Input: x = 123\n",
        "Output: 321\n",
        "Input: x = -123\n",
        "Output: -321\n",
        "Input: x = 120\n",
        "Output: 21\n",
        "```\n",
        "\n"
      ],
      "metadata": {
        "id": "PLL9Wdqqnx7o"
      }
    },
    {
      "cell_type": "code",
      "source": [
        "a = input(\"\")\n",
        "if a.isalpha() == True :\n",
        "  print(\"again\")\n",
        "elif a[0] == \"-\"  and a[1].isalpha() == True :\n",
        "  print(\"again\")\n",
        "elif a[0] == \"-\" :\n",
        "  n = a[:0:-1]\n",
        "  n = int(n)\n",
        "  print(f\"{a[0]}{n}\")\n",
        "elif a[-1] == \"0\" :\n",
        "  num = a[::-1]\n",
        "  num =int(num)\n",
        "  print(num)\n",
        "else :\n",
        "  print(a[::-1])\n",
        "\n"
      ],
      "metadata": {
        "id": "n8-_gOQco98T",
        "outputId": "72a11b38-f122-4817-b3be-01fc9001fb81",
        "colab": {
          "base_uri": "https://localhost:8080/"
        }
      },
      "execution_count": null,
      "outputs": [
        {
          "output_type": "stream",
          "name": "stdout",
          "text": [
            "1as223\n",
            "322sa1\n"
          ]
        }
      ]
    },
    {
      "cell_type": "markdown",
      "source": [
        "7.\tเขียนโปรแกรมเพื่อแสดงปิรามิดบนจอภาพ โดยแสดงเป็นรูปสี่เหลี่ยม ตัวเลขเริ่มจาก 0  และเพิ่มค่าตามลําดับจํานวนขั้น จาก 0 ถึง N (รับค่า N จากคีย์บอร์ด) ค่าของ N อยู่ระหว่าง 0-9 ดังตัวอย่าง\n",
        "\n",
        "\n",
        "```\n",
        "\t\t\t\t\t\t\t\t\t         0000000\n",
        "\t\t\t\t\t\t\t    00000\t\t0111110\n",
        "\t\t\t\t\t000\t\t 01110\t\t0122210\n",
        "\t\t\t0\t\t010\t\t01210\t\t0123210\n",
        "\t\t\t\t\t000\t\t 01110\t\t0122210\n",
        "\t\t\t\t\t\t\t    00000\t\t0111110\n",
        "\t\t\t\t\t\t\t\t\t         0000000\n",
        "\n",
        "\t\t\tn=0\t\tn=1\t\tn=2\t\tn=3\n",
        "\n",
        "```\n",
        "\n"
      ],
      "metadata": {
        "id": "KboD6c8rn52a"
      }
    },
    {
      "cell_type": "code",
      "source": [
        "n = int(input(\"\"))\n",
        "x1,x2,y1,y2 = -n ,n  ,n ,-n\n",
        "for r in range(y1,y2-1,-1):\n",
        "  for c in range(x1,x2+1) :\n",
        "    print(n - max(abs(r), abs(c)), end=\"\")\n",
        "  print(\"\")"
      ],
      "metadata": {
        "id": "sGhw6Iyfobiz",
        "outputId": "83be93d5-8f5a-4d5e-c998-531ce8de1d2d",
        "colab": {
          "base_uri": "https://localhost:8080/"
        }
      },
      "execution_count": null,
      "outputs": [
        {
          "output_type": "stream",
          "name": "stdout",
          "text": [
            "5\n",
            "00000000000\n",
            "01111111110\n",
            "01222222210\n",
            "01233333210\n",
            "01234443210\n",
            "01234543210\n",
            "01234443210\n",
            "01233333210\n",
            "01222222210\n",
            "01111111110\n",
            "00000000000\n"
          ]
        }
      ]
    },
    {
      "cell_type": "markdown",
      "source": [
        "8.\tเขียนโปรแกรมเพื่อแสดงปิรามิดบนจอภาพ โดยแสดงเป็นรูปสี่เหลี่ยม ตัวเลขเริ่มจาก 0  และเพิ่มค่าตามลําดับจํานวนขั้น จาก 0 ถึง N (รับค่า N จากคีย์บอร์ด) กําหนดให้จุดศูนย์กลางของรูปสี่เหลี่ยมอยู่ที่แถว 13 คอลัมน์ 40 ของจอภาพค่าของ N อยู่ระหว่าง 0-9 ดังตัวอย่าง\n",
        "\n",
        "\n",
        "\n",
        "```\n",
        "\t\t\t\t\t\t\t\t\t            0\n",
        "\t\t\t\t\t\t\t      0\t\t    010\n",
        "\t\t\t\t\t  0\t\t  010\t\t  01210\n",
        "\t\t\t0\t\t010\t\t01210\t\t0123210\n",
        "\t\t\t\t\t  0\t\t  010\t\t  01210\n",
        "\t\t\t\t\t\t\t      0\t\t    010\n",
        "\t\t\t\t\t\t\t\t\t            0\n",
        "\n",
        "\t\t\tn=0\t\tn=1\t\tn=2\t\tn=3\n",
        "\n",
        "```\n",
        "\n"
      ],
      "metadata": {
        "id": "ecRYU6Lkob6Q"
      }
    },
    {
      "cell_type": "code",
      "source": [
        "n = int(input(\"\"))\n",
        "for i in range(n+1):\n",
        "  for j in range(n-i):\n",
        "    print(\" \" ,end=\"\")\n",
        "  for j in range(i+1):\n",
        "    print(j ,end=\"\")\n",
        "  for j in range(i-1, -1, -1):\n",
        "    print(j ,end=\"\")\n",
        "  print(\" \")\n",
        "\n",
        "for i in range(n-1,-1,-1):\n",
        "  for j in range(n-i):\n",
        "    print(\" \" ,end=\"\")\n",
        "  for j in range(i+1):\n",
        "    print(j ,end=\"\")\n",
        "  for j in range(i-1, -1, -1):\n",
        "    print(j ,end=\"\")\n",
        "  print(\" \")"
      ],
      "metadata": {
        "colab": {
          "base_uri": "https://localhost:8080/"
        },
        "id": "6of_ylhf17zt",
        "outputId": "548cb429-7920-442e-9de1-4dd0d93cda56"
      },
      "execution_count": null,
      "outputs": [
        {
          "output_type": "stream",
          "name": "stdout",
          "text": [
            "5\n",
            "     0 \n",
            "    010 \n",
            "   01210 \n",
            "  0123210 \n",
            " 012343210 \n",
            "01234543210 \n",
            " 012343210 \n",
            "  0123210 \n",
            "   01210 \n",
            "    010 \n",
            "     0 \n"
          ]
        }
      ]
    },
    {
      "cell_type": "markdown",
      "source": [
        "9.\tให้เขียนโปรแกรมสร้างรูปสามเหลี่ยมที่วางซ้อนกัน 3 รูป โดยแต่ละรูปสร้างมาจากเครื่องหมาย \"*\" โดยกําหนดให้รับตัวเลขระดับของสามเหลี่ยมจากคีย์บอร์ด จากตัวอย่างข้างล่างนี้เป็นรูปสามเหลี่ยมระดับที่ 3 และ 4\n",
        "\n",
        "\n",
        "\n",
        "```\n",
        "              *\n",
        "\t\t     ***\n",
        "\t\t    *****\n",
        "\t\t   *     *\n",
        "\t      ***   ***\n",
        "\t     ***** *****\n",
        "\n",
        "  \t\t    *\n",
        "\t  \t   ***\n",
        "\t\t    *****\n",
        "\t\t   *******\n",
        "\t      *       *\n",
        "\t     ***     ***\n",
        "\t    *****   *****\n",
        "\t   ******* *******\n",
        "\n",
        "```\n",
        "\n"
      ],
      "metadata": {
        "id": "Po50A-Kuo5t4"
      }
    },
    {
      "cell_type": "code",
      "source": [
        "num = int(input(\"\"))\n",
        "for i in range(num):\n",
        "  for j in range((num*2)-i-1):\n",
        "    print(\" \" ,end=\"\")\n",
        "  for j in range(i+1):\n",
        "    print(\"*\" ,end=\"\")\n",
        "  for j in range(i):\n",
        "    print(\"*\" ,end=(\"\"))\n",
        "  print(\" \")\n",
        "\n",
        "for i in range(num):\n",
        "  for j in range((num-i)-1):\n",
        "    print(\" \" ,end=\"\")\n",
        "  for j in range(i+1):\n",
        "    print(\"*\" ,end=\"\")\n",
        "  for j in range(i):\n",
        "    print(\"*\" ,end=(\"\"))\n",
        "\n",
        "  for j in range(num-i):\n",
        "    print(\" \" ,end=(\"\"))\n",
        "  for j in range((num-i)-1):\n",
        "    print(\" \" ,end=\"\")\n",
        "  for j in range(i+1):\n",
        "    print(\"*\" ,end=\"\")\n",
        "  for j in range(i):\n",
        "    print(\"*\" ,end=(\"\"))\n",
        "  print(\" \")\n"
      ],
      "metadata": {
        "id": "NTvrCYReWHN0",
        "outputId": "b3171f7b-7853-4323-9236-8ee84405890e",
        "colab": {
          "base_uri": "https://localhost:8080/"
        }
      },
      "execution_count": null,
      "outputs": [
        {
          "output_type": "stream",
          "name": "stdout",
          "text": [
            "4\n",
            "       * \n",
            "      *** \n",
            "     ***** \n",
            "    ******* \n",
            "   *       * \n",
            "  ***     *** \n",
            " *****   ***** \n",
            "******* ******* \n"
          ]
        }
      ]
    }
  ]
}