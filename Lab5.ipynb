{
  "nbformat": 4,
  "nbformat_minor": 0,
  "metadata": {
    "colab": {
      "provenance": [],
      "include_colab_link": true
    },
    "kernelspec": {
      "name": "python3",
      "display_name": "Python 3"
    },
    "language_info": {
      "name": "python"
    }
  },
  "cells": [
    {
      "cell_type": "markdown",
      "metadata": {
        "id": "view-in-github",
        "colab_type": "text"
      },
      "source": [
        "<a href=\"https://colab.research.google.com/github/67015063/lab03/blob/main/Lab5.ipynb\" target=\"_parent\"><img src=\"https://colab.research.google.com/assets/colab-badge.svg\" alt=\"Open In Colab\"/></a>"
      ]
    },
    {
      "cell_type": "markdown",
      "source": [
        "รหัสนักศึกษา : 67015063 ชื่อ :ธัญญเรศ ศรีวิชัย"
      ],
      "metadata": {
        "id": "ayuUhdui4PbN"
      }
    },
    {
      "cell_type": "markdown",
      "source": [
        "Exercise 5.1 ให้เขียน function ชื่อ day_of_year(day, month ,year) โดยมีการคืนค่า คือ day_of_years เป็นวันที่ลำดับที่เท่าใดของปีคริสตศักราช year\n",
        "ปีที่เป็น Leap Year เดือนกุมภาพันธ์จะมี 29 วัน\n",
        "ให้สร้างฟังก์ชัน is_leap เพื่อตรวจสอบ leap year แยกออกมา และให้ฟังก์ชัน day_of_year เรียกใช้ is_leap อีกที\n"
      ],
      "metadata": {
        "id": "ZXM4rXQB6Q9o"
      }
    },
    {
      "cell_type": "code",
      "source": [
        "days_in_month = [31, 28, 31, 30, 31, 30, 31, 31, 30, 31, 30, 31]\n",
        "def is_leap(year) :\n",
        "  if year % 4 == 0 :\n",
        "    if year % 100 == 0 :\n",
        "      if year % 400 == 0 :\n",
        "        return True\n",
        "      else :\n",
        "        return False\n",
        "    else :\n",
        "      return True\n",
        "  else :\n",
        "    return False\n",
        "\n",
        "def day_of_year(day, month, year) :\n",
        "  if is_leap(year) :\n",
        "    days_in_month[1] = 29\n",
        "  else :\n",
        "    days_in_month[1] = 28\n",
        "  day_of_years = sum(days_in_month[:month - 1]) + day\n",
        "  return day_of_years\n",
        "print(\"Normal year (2023):\")\n",
        "print(f\"1 Jan 2023: {day_of_year(1, 1, 2023)}\")  # ควรได้ 1\n",
        "print(f\"1 Feb 2023: {day_of_year(1, 2, 2023)}\")  # ควรได้ 32\n",
        "print(f\"1 Mar 2023: {day_of_year(1, 3, 2023)}\")  # ควรได้ 60\n",
        "print(f\"31 Dec 2023: {day_of_year(31, 12, 2023)}\")  # ควรได้ 365\n",
        "\n",
        "print(\"\\nLeap year (2024):\")\n",
        "print(f\"1 Jan 2024: {day_of_year(1, 1, 2024)}\")  # ควรได้ 1\n",
        "print(f\"29 Feb 2024: {day_of_year(29, 2, 2024)}\")  # ควรได้ 60\n",
        "print(f\"1 Mar 2024: {day_of_year(1, 3, 2024)}\")  # ควรได้ 61\n",
        "print(f\"31 Dec 2024: {day_of_year(31, 12, 2024)}\")  # ควรได้ 366\n",
        "\n",
        "print(\"\\nCentury year, not a leap year (1900):\")\n",
        "print(f\"1 Mar 1900: {day_of_year(1, 3, 1900)}\")  # ควรได้ 60\n",
        "\n",
        "print(\"\\nCentury year, leap year (2000):\")\n",
        "print(f\"1 Mar 2000: {day_of_year(1, 3, 2000)}\")  # ควรได้ 61\n",
        "\n",
        "print(\"\\nMid-year dates:\")\n",
        "print(f\"15 Jun 2023: {day_of_year(15, 6, 2023)}\")  # ควรได้ 166\n",
        "print(f\"15 Jun 2024: {day_of_year(15, 6, 2024)}\")  # ควรได้ 167 (Leap year)\n",
        "\n",
        "print(\"\\nLast day of each quarter:\")\n",
        "print(f\"31 Mar 2023: {day_of_year(31, 3, 2023)}\")  # ควรได้ 90\n",
        "print(f\"30 Jun 2023: {day_of_year(30, 6, 2023)}\")  # ควรได้ 181\n",
        "print(f\"30 Sep 2023: {day_of_year(30, 9, 2023)}\")  # ควรได้ 273\n",
        "print(f\"31 Dec 2023: {day_of_year(31, 12, 2023)}\")  # ควรได้ 365\n"
      ],
      "metadata": {
        "id": "oerlrWw46aJZ"
      },
      "execution_count": null,
      "outputs": []
    },
    {
      "cell_type": "markdown",
      "source": [
        "Exercise 5.2 ให้เขียนฟังก์ชัน เพิ่มเติมเป็น date_diff\n",
        "รับข้อมูลในรูปแบบ “dd-mm-yyyy” เช่น date_diff(“1-1-2018”, “1-1-2020”) จะได้ 731 วัน date_diff(“25-12-1999”, “9-3-2000”) จะได้ 76 วัน\n",
        "ให้เขียนฟังก์ชัน day_in_year โดยจะส่งค่าจำนวนวันของปี (365 หรือ 366) โดยรับข้อมูลเป็น ปี\n",
        "ส่งคืนข้อมูลเป็นจำนวนวันตั้งแต่วันที่แรก จนถึงวันที่สอง โดยรวมทั้ง 2 วันนั้นเข้าไปด้วย\n",
        "ให้สมมติว่าวันแรก จะต้องมาก่อนวันที่สองเสมอ ดังนั้นไม่ต้องตรวจสอบ\n"
      ],
      "metadata": {
        "id": "fkkuNcAcCo-z"
      }
    },
    {
      "cell_type": "code",
      "source": [
        "days_in_month = [31, 28, 31, 30, 31, 30, 31, 31, 30, 31, 30, 31]\n",
        "def is_leap(year) :\n",
        "  if year % 4 == 0 :\n",
        "    if year % 100 == 0 :\n",
        "      if year % 400 == 0 :\n",
        "        return True\n",
        "      else :\n",
        "        return False\n",
        "    else :\n",
        "      return True\n",
        "  else :\n",
        "    return False\n",
        "\n",
        "def day_of_year(day, month, year) :\n",
        "  if is_leap(year):\n",
        "    days_in_month[1] = 29\n",
        "  else :\n",
        "    days_in_month[1] = 28\n",
        "  day_of_years = sum(days_in_month[:month - 1]) + day\n",
        "  return day_of_years\n",
        "\n",
        "def day_in_year(year) :\n",
        "  return 366 if is_leap(year) else 365\n",
        "\n",
        "def date_diff(date1, date2) :\n",
        "  a = date1.split(\"-\")\n",
        "  a1 = int(a[0])\n",
        "  a2 = int(a[1])\n",
        "  a3 = int(a[2])\n",
        "  b = date2.split(\"-\")\n",
        "  b1 = int(b[0])\n",
        "  b2 = int(b[1])\n",
        "  b3 = int(b[2])\n",
        "\n",
        "  years = []\n",
        "  for year in range(a3 + 1, b3) :\n",
        "    years.append(year)\n",
        "  total = []\n",
        "  for year in years :\n",
        "    total.append(day_in_year(year))\n",
        "\n",
        "  if b3 - a3 > 0 :\n",
        "    endyear1 = day_of_year(day=31,month=12, year=1)\n",
        "    date1 = day_of_year(day=a1,month=a2, year=a3)\n",
        "    total.append(endyear1 - date1 +1)\n",
        "    date2 = day_of_year(day=b1,month=b2, year=b3)\n",
        "    total.append(date2)\n",
        "  else :\n",
        "    date1 = day_of_year(day=a1,month=a2, year=a3)\n",
        "    date2 = day_of_year(day=b1,month=b2, year=b3)\n",
        "    total.append(date2 - date1 +1)\n",
        "  all = sum(total)\n",
        "  print(all)\n",
        "date_diff(\"1-1-2018\", \"1-1-2020\")  # ควรได้ 731\n",
        "date_diff(\"25-12-1999\", \"9-3-2000\")  # ควรได้ 76\n",
        "date_diff(\"1-1-2000\", \"1-1-2001\")  # ควรได้ 367 (ปี 2000 เป็น leap year)\n",
        "date_diff(\"1-1-2001\", \"1-1-2002\")  # ควรได้ 366 (ปี 2001 ไม่ใช่ leap year)\n",
        "date_diff(\"1-3-2000\", \"1-3-2001\") # ควรได้ 367 (ข้ามปี leap year)\n",
        "date_diff(\"1-1-2023\", \"31-12-2023\")  # ควรได้ 365 (ทั้งปี 2023)\n",
        "\n"
      ],
      "metadata": {
        "id": "dwNIkw0wDRjF",
        "outputId": "cea1c50f-58d8-4714-a396-c5eb05906161",
        "colab": {
          "base_uri": "https://localhost:8080/"
        }
      },
      "execution_count": null,
      "outputs": [
        {
          "output_type": "stream",
          "name": "stdout",
          "text": [
            "731\n",
            "76\n",
            "366\n",
            "366\n",
            "365\n",
            "365\n"
          ]
        }
      ]
    },
    {
      "cell_type": "markdown",
      "source": [
        "Exercise 5.3 จากโปรแกรม 5.2 ให้เขียนฟังก์ชัน date_diff  เพิ่มเติม โดยให้มีการตรวจสอบ\n",
        "วันที่ต้องเป็นวันที่ถูกต้องของเดือนนั้นๆ\n",
        "เดือนต้องอยู่ระหว่าง 1-12\n",
        "เดือนกุมภาพันธ์ของปีที่มี Leap Year เท่านั้นที่จะมี 29 วันได้\n",
        "หากข้อมูล Input ผิดพลาด ให้ Return -1\n"
      ],
      "metadata": {
        "id": "JU8jQcg4WDoF"
      }
    },
    {
      "cell_type": "code",
      "source": [
        "days_in_month = [31, 28, 31, 30, 31, 30, 31, 31, 30, 31, 30, 31]\n",
        "def is_leap(year) :\n",
        "  if year % 4 == 0 :\n",
        "    if year % 100 == 0 :\n",
        "      if year % 400 == 0 :\n",
        "        return True\n",
        "      else :\n",
        "        return False\n",
        "    else :\n",
        "      return True\n",
        "  else :\n",
        "    return False\n",
        "\n",
        "def day_in_year(year):\n",
        "    return 366 if is_leap(year) else 365\n",
        "\n",
        "def day_in_month(month,year):\n",
        "  if is_leap(year):\n",
        "    days_in_month[1] = 29\n",
        "  return days_in_month[month - 1]\n",
        "\n",
        "def day_of_year(day, month, year):\n",
        "  if month < 1 or month > 12 :\n",
        "    return -1\n",
        "  if day < 1 or day > day_in_month(month, year) :\n",
        "    return -1\n",
        "  for m in range(1 ,month) :\n",
        "    days = sum(day_in_month(m,year))+day\n",
        "  return day_of_year\n",
        "\n",
        "def date_diff(date1, date2):\n",
        "  a = date1.split(\"-\")\n",
        "  b = date1.split(\"-\")\n",
        "\n",
        "  if len(a) != 3 or len(b) != 3 :\n",
        "    return -1\n",
        "\n",
        "  d1, m1, y1 = map(int,a)\n",
        "  d2, m2, y2 = map(int,b)\n",
        "\n",
        "  if day_of_year(d1,m1,y1) == -1 or day_of_year(d2,m2,y2) == -1 :\n",
        "    return -1\n",
        "\n",
        "  if (y1 > y2) or (y1 == y2 and day_of_year(d1, m1, y1) > day_of_year(d2, m2, y2)):\n",
        "    date1, date2 = date2, date1\n",
        "    d1,m1,y1 = d2,m2,y2\n",
        "    d2,m2,y2 = map(int, a)\n",
        "\n",
        "  years = list(range(y1 +1 , y2))\n",
        "  for year in years :\n",
        "    total = [day_in_year(year)]\n",
        "\n",
        "  if y2 - y1 > 0 :\n",
        "    endyear1 = day_of_year(day=31,month=12, year=y1)\n",
        "    date1 = day_of_year(day=d1,month=m2, year=y1)\n",
        "    total.append(endyear1 - date1 +1)\n",
        "    date2 = day_of_year(day=d2,month=m2, year=y2)\n",
        "    total.append(date2)\n",
        "  else :\n",
        "    date1 = day_of_year(day=d1,month=d2, year=y1)\n",
        "    date2 = day_of_year(day=d2,month=m2, year=y2)\n",
        "    total.append(date2 - date1 +1)\n",
        "  return sum(total)\n",
        "\n",
        "# ทดสอบฟังก์ชัน\n",
        "print(date_diff(\"1-1-2018\", \"1-1-2020\"))  # ควรได้ 731\n",
        "print(date_diff(\"25-12-1999\", \"9-3-2000\"))  # ควรได้ 76\n",
        "print(date_diff(\"1-1-2000\", \"1-1-2001\"))  # ควรได้ 367 (ปี 2000 เป็น leap year)\n",
        "print(date_diff(\"1-1-2001\", \"1-1-2002\"))  # ควรได้ 366 (ปี 2001 ไม่ใช่ leap year)\n",
        "print(date_diff(\"1-3-2000\", \"1-3-2001\"))  # ควรได้ 367 (ข้ามปี leap year)\n",
        "print(date_diff(\"1-1-2023\", \"31-12-2023\"))  # ควรได้ 365 (ทั้งปี 2023)\n",
        "\n",
        "# ทดสอบกรณีข้อมูลไม่ถูกต้อง\n",
        "print(date_diff(\"31-4-2023\", \"1-5-2023\"))  # ควรได้ -1 (เดือนเมษายนมี 30 วัน)\n",
        "print(date_diff(\"29-2-2023\", \"1-3-2023\"))  # ควรได้ -1 (ปี 2023 ไม่ใช่ leap year)\n",
        "print(date_diff(\"1-13-2023\", \"1-1-2024\"))  # ควรได้ -1 (เดือนไม่ถูกต้อง)\n",
        "print(date_diff(\"abc\", \"1-1-2024\"))  # ควรได้ -1 (รูปแบบวันที่ไม่ถูกต้อง)"
      ],
      "metadata": {
        "id": "OgqrXbFVWEML"
      },
      "execution_count": null,
      "outputs": []
    },
    {
      "cell_type": "markdown",
      "source": [
        "1.\tปลาหมอคางดำเพศเมีย 1 ตัว เมื่ออายุครบ 2 เดือน จะสามารถสืบพันธ์ได้ โดยระยะเวลาตั้งท้องจนถึง\n",
        "วางไข่ของตัวเมียจะใช้เวลา 21 วัน และฟักในปากเพศผู้อีก 7 วัน (สามารถรวมเป็น 1 เดือนได้) โดยออกไข่ครั้งละ 300 ฟอง กำหนดให้ไข่ฟักเป็นเพศผู้และเพศเมียอย่างละครึ่ง และเมื่อวางไข่แล้วจะสามารถสืบพันธ์ต่อได้ทันที กำหนดให้ปลามีอายุ 5 ปี และปลาทั้งหมดจะตาย p% ทุก 1 เดือน จงหาว่าปลาหมอคางดำหลุดจากฟาร์ม n ตัวเป็นเพศผู้และเพศเมียอย่างละครึ่ง จงเขียนโปรแกรมรับค่า n และ p ให้แสดงผลจำนวนปลาทุก 3 เดือน เป็นเวลา 10 ปี ให้เขียนเป็นฟังก์ชัน ชื่อ simulate_fish_population()\n"
      ],
      "metadata": {
        "id": "tdBCjJzeWb2c"
      }
    },
    {
      "cell_type": "code",
      "execution_count": null,
      "metadata": {
        "id": "JmvNmVQh4C9X"
      },
      "outputs": [],
      "source": [
        "import math\n",
        "n = 2#int(input(\"\"))\n",
        "p = 10#int(input(\"\"))\n",
        "\n",
        "def simulate_fish_population(n, p):\n",
        "  l_egg = []\n",
        "  l_baby = [0]\n",
        "  l_adult = [n]\n",
        "  k=0\n",
        "\n",
        "  for i in range(120):\n",
        "    if i == 0:\n",
        "      l_egg.append((sum(l_adult)/2)*300)\n",
        "      print(i+1,\"Egg:\",int(l_egg[i]),\"Baby:\",int(l_baby[i]),\"Adult:\",sum(l_adult),\"Fish:\",n)\n",
        "    elif i > 0:\n",
        "      l_baby.append(l_egg[i-1]*(100-p)/100)\n",
        "      l_egg.append((sum(l_adult)/2)*300)\n",
        "      l_adult.append(l_baby[i-1]*(100-p)/100)\n",
        "    print(i+1,\"Egg:\",int(l_egg[i]),\"Baby:\",int(l_baby[i]),\"Adult:\",sum(l_adult),\"Fish:\",sum(l_adult)+int(l_baby[i]))\n",
        "\n",
        "    for j in range(len(l_adult)):\n",
        "      l_adult[j] = round((l_adult[j]*(100-p)/100))\n",
        "    if i % 59 == 0 and i > 0:\n",
        "      l_adult[k] =0\n",
        "simulate_fish_population(n, p)\n",
        "\n",
        "\n",
        "\n",
        "# Run simulation\n",
        "#n = 2   Initial number of fish\n",
        "#p = 10   Monthly mortality rate\n",
        "\n",
        "# simulate_fish_population(n, p)\n",
        "\n",
        "# ถ้าเริ่มต้นด้วยปลา 2 ตัว ตายเดือนละ 10%\n",
        "# เดือนที่ 1 ไข่ 300 ไบ\n",
        "# เดือนที่ 2 ไข่ 300 ใบ + ลูกปลา 270 ตัว\n",
        "# เดือนที่ 3 ไข่ 300 ใบ + ลูกปลา 270 ตัว + ปลาโตเต็มวัย 243 ตัว + 2 = 515 ตัว\n",
        "#เดือน 4 ออกไข่300 + ลูก270 +  243/2=120 *300\n"
      ]
    },
    {
      "cell_type": "markdown",
      "source": [
        "2.\tให้เขียน function find_mismatch ซึ่งรับ string มา 2 ค่า โดยจะส่งค่ากลับดังนี้\n",
        "- 0 เมื่อ string ทั้ง 2 ตัว เหมือนกัน โดยไม่สนใจ case\n",
        "- 1 เมื่อ string 1 จะเหมือน string 2 โดยการลบและ/หรือเพิ่มตัวอักษรเพียง 1 ตัว\n",
        "- 2 เมื่อ string ไม่เข้าเกณฑ์ 0 หรือ 1\n",
        "\n",
        "\n",
        "| String  1| \tString2\t|ผลลัพธ์|\n",
        "|----------|----------|------|\n",
        "|Python|\tJava\t|2|\n",
        "|book\t |  boot\t|1|\n",
        "|fan\t |  fun\t  |1|\n",
        "|sin\t | sink\t  |1 เพราะเพิ่ม k ใน str2 แล้วจะเหมือนกัน\n",
        "|Dog\t | dog\t  |0\n",
        "|poke\t | spoke\t|1 เพิ่ม s ใน str2 แล้วเหมือนกัน\n",
        "|poker |\tpoke\t|1 ตัด r ใน str1 ออกแล้วเหมือนกัน\n",
        "\n",
        "\n",
        "\n",
        "\n"
      ],
      "metadata": {
        "id": "F0_ZEPOYbDKf"
      }
    },
    {
      "cell_type": "code",
      "source": [
        "str1 = input(\"\")\n",
        "str2 = input(\"\")\n",
        "def find_mismatch(str1, str2) :\n",
        "  str1 = str1.lower()\n",
        "  str2 = str2.lower()\n",
        "  if str1 == str2 :\n",
        "    return 0\n",
        "\n",
        "  def edit(str1,str2) :\n",
        "    lenth1,lenth2 = len(str1),len(str2)\n",
        "    if abs(lenth1 - lenth2) > 1 :\n",
        "      return False\n",
        "    i=0\n",
        "    j=0\n",
        "    diff = False\n",
        "    while i <lenth1 and j<lenth2 :\n",
        "      if str1[i] != str2[j] :\n",
        "        if diff :\n",
        "          return False\n",
        "        diff = True\n",
        "        if lenth1 > lenth2 :\n",
        "          i+=1\n",
        "        elif lenth1 < lenth2 :\n",
        "          j+=1\n",
        "        else :\n",
        "          i+=1\n",
        "          j+=1\n",
        "      else :\n",
        "        i+=1\n",
        "        j+=1\n",
        "    return True\n",
        "\n",
        "  if edit(str1,str2) :\n",
        "    return 1\n",
        "  return 2\n",
        "print(find_mismatch(str1, str2))"
      ],
      "metadata": {
        "id": "jyVxAb-MXnz2"
      },
      "execution_count": null,
      "outputs": []
    },
    {
      "cell_type": "markdown",
      "source": [
        "3.\tจากข้อ 1 ให้เขียนฟังก์ชันชื่อ spelling_correction โดยรับ 2 argument ตัวแรกเป็นประโยค (string) และตัวที่ 2 เป็น list ของคำ (correct_spells) โดยฟังก์ชันนี้มีหน้าที่ตรวจสอบแต่ละ word ใน input string กับคำที่อยู่ใน correct_spells โดยค่าที่คืนกลับมาจะมีดังนี้ (พยายามเรียกใช้ฟังก์ชันในข้อ 1)\n",
        "-\tถ้าคำที่อยู่ในประโยค ตรงกับคำที่อยู่ใน correct_spells ทุกอย่าง ก็จะ copy ไปที่ output string\n",
        "-\tถ้าคำที่อยู่ในประโยค ต่างจากคำที่อยู่ใน correct_spells โดยต่างกัน 1 ตัวอักษร โดยการเปลี่ยน การเพิ่ม หรือการลบ 1 ตัวอักษร คำที่อยู่ในประโยคจะถูกเปลี่ยนโดยคำที่อยู่ใน correct_spells และนำไปใส่ output string\n",
        "-\tถ้าคำที่ไม่พบในเงื่อนไขข้างต้นให้นำคำนั้นไปใส่ output string ได้เลย\n",
        "-\tคำที่ประกอบด้วย 1 หรือ 2 ตัวอักษรจะไม่ตรวจสอบ ให้นำคำนั้นไปใส่ output string ได้เลย\n",
        "-\tถ้ามี 2 คำใน correct_spells ที่ตรงตามเงื่อนไข ให้ใช้คำแรก\n",
        "-\tไม่สนใจตัวใหญ่ ตัวเล็ก\n",
        "-\tInput string จะมีได้เพียงอักษรภาษาอังกฤษเท่านั้น\n",
        "-\tในแต่ละคำจะคั่นด้วย 1 space ถ้ามี space มากกว่านั้นให้ตัดออก และตัด space จากหัวท้ายประโยค\n",
        "\n",
        "|ประโยค\t|correct_spells\t|output string |\n",
        "|-------|---------------|-------------|\n",
        "|Thes is the Firs cas\t|[‘that’,’first’,’case’,’car’]|\tthes is the first car|\n",
        "|programming is fan and easy\t|[‘programming’,’this’,’fun’,’easy’,book’]\t|programming is fun and easy|\n",
        "|Thes is vary essy\t|[‘this’,’is’,’very’,’easy’]\t|this is very easy|\n",
        "|Wee ipve Pythen\t|[‘we’,’live’,’ln’,’Python’]\t|we live python|\n",
        "\n",
        "\n"
      ],
      "metadata": {
        "id": "jzXp83HSbMh9"
      }
    },
    {
      "cell_type": "code",
      "source": [
        "str1 = input(\"\")\n",
        "str2 = input(\"\")\n",
        "def find_mismatch(str1, str2) :\n",
        "  str1 = str1.lower()\n",
        "  str2 = str2.lower()\n",
        "  if str1 == str2 :\n",
        "    return 0\n",
        "\n",
        "  def edit(str1,str2) :\n",
        "    lenth1,lenth2 = len(str1),len(str2)\n",
        "    if abs(lenth1 - lenth2) > 1 :\n",
        "      return False\n",
        "    i=0\n",
        "    j=0\n",
        "    diff = False\n",
        "    while i <lenth1 and j<lenth2 :\n",
        "      if str1[i] != str2[j] :\n",
        "        if diff :\n",
        "          return False\n",
        "        diff = True\n",
        "        if lenth1 > lenth2 :\n",
        "          i+=1\n",
        "        elif lenth1 < lenth2 :\n",
        "          j+=1\n",
        "        else :\n",
        "          i+=1\n",
        "          j+=1\n",
        "      else :\n",
        "        i+=1\n",
        "        j+=1\n",
        "    return True\n",
        "\n",
        "  if edit(str1,str2) :\n",
        "    return 1\n",
        "  return 2\n",
        "\n",
        "def spelling_correction(input_string, correct_spells):\n",
        "  pass\n",
        "\n",
        "print(find_mismatch(str1, str2))"
      ],
      "metadata": {
        "id": "4NW0Y1hXpfCt",
        "outputId": "d402c4f6-5467-491d-98f2-7ef29c10621a",
        "colab": {
          "base_uri": "https://localhost:8080/"
        }
      },
      "execution_count": null,
      "outputs": [
        {
          "output_type": "stream",
          "name": "stdout",
          "text": [
            "book\n",
            "boo\n",
            "1\n"
          ]
        }
      ]
    },
    {
      "cell_type": "markdown",
      "source": [
        "4. ให้เขียนฟังก์ชัน find_word_horizontal ซึ่งจะรับ list ขนาด 2 มิติ ของตัวอักษร (คล้ายกับเกม cross word) และ word ซึ่งเป็น string เป็น argument โดยฟังก์ชันนี้ จะค้นหาตามแถวของ list เพื่อหาตำแหน่งที่มีอักษรตรงกับคำใน word ถ้าพบ จะส่งคืน row index และ column index ของตัวอักษรแรก ถ้าไม่พบจะส่งคืน None\n",
        "\n",
        "```\n",
        "crosswords=[['s','d','o','g'],\n",
        "            ['c','u','c','m'],\n",
        "            ['a','c','a','t'],\n",
        "            ['t',' e','t','k']]\n",
        "\tword='cat'\n",
        "\tfind_word_horizontal(crosswords,word)\n",
        "```\n",
        "\n",
        "Output\n",
        "   [2,1]\n"
      ],
      "metadata": {
        "id": "sshYZJYZpfua"
      }
    },
    {
      "cell_type": "code",
      "source": [
        "def find_word_horizontal(crosswords, word):\n",
        "  for rowin , row in enumerate(crosswords) :\n",
        "    rowstr = \"\".join(row)\n",
        "    col = rowstr.find(word)\n",
        "    if col != -1 :\n",
        "      return (rowin ,col)\n",
        "crosswords=[['s','d','o','g'],\n",
        "            ['c','u','c','m'],\n",
        "            ['a','c','a','t'],\n",
        "            ['t',' e','t','k']]\n",
        "word='cat'\n",
        "re = find_word_horizontal(crosswords,word)\n",
        "print(re)"
      ],
      "metadata": {
        "id": "2z0nonPMqZ_Q",
        "outputId": "bb64d10f-290a-4d18-92a5-a09427023718",
        "colab": {
          "base_uri": "https://localhost:8080/"
        }
      },
      "execution_count": null,
      "outputs": [
        {
          "output_type": "stream",
          "name": "stdout",
          "text": [
            "(2, 1)\n"
          ]
        }
      ]
    },
    {
      "cell_type": "markdown",
      "source": [
        "5. ให้เขียนฟังก์ชัน find_word_vertical ซึ่งจะรับ list ขนาด 2 มิติ ของตัวอักษร (คล้ายกับเกม cross word) และ word ซึ่งเป็น string เป็น argument โดยฟังก์ชันนี้ จะค้นหาตามคอลัมน์ของ list เพื่อหาตำแหน่งที่มีอักษรตรงกับคำใน word ถ้าพบ จะส่งคืน row index และ column index ของตัวอักษรแรก ถ้าไม่พบจะส่งคืน None\n",
        "\n",
        "ตัวอย่าง\n",
        "```\n",
        "\tcrosswords=[['s','d','o','g'],\n",
        "              ['c','u','c','m'],\n",
        "              ['a','c','a','t'],\n",
        "              ['t',' e','t','k']]\n",
        "\tword='cat'\n",
        "\tfind_word_vertical(crosswords,word)\n",
        "```\n",
        "\n",
        "Output\n",
        "   [1,0]\n"
      ],
      "metadata": {
        "id": "sDhGHMPsqr6a"
      }
    },
    {
      "cell_type": "code",
      "source": [
        "def find_word_vertical(crosswords, word):\n",
        "  numrow = len(crosswords)\n",
        "  if numrow > 0 :\n",
        "    numcol = len(crosswords[0])\n",
        "  else :\n",
        "    numcol = 0\n",
        "\n",
        "  for colin in range(numcol) :\n",
        "    colstr = \"\".join(crosswords[rowin][colin]for rowin in range(numrow))\n",
        "    rowin = colstr.find(word)\n",
        "    if rowin != -1 :\n",
        "      return(rowin,colin)\n",
        "  return None\n",
        "crosswords=[\n",
        "    ['s','d','o','g'],\n",
        "    ['c','u','c','m'],\n",
        "    ['a','c','a','t'],\n",
        "    ['t',' e','t','k']]\n",
        "word='cat'\n",
        "re = find_word_vertical(crosswords,word)\n",
        "print(re)"
      ],
      "metadata": {
        "id": "R5Jp1CkQrEz9",
        "outputId": "8d188adf-0677-480f-9ab6-ba5cc6096e6d",
        "colab": {
          "base_uri": "https://localhost:8080/"
        }
      },
      "execution_count": null,
      "outputs": [
        {
          "output_type": "stream",
          "name": "stdout",
          "text": [
            "(1, 0)\n"
          ]
        }
      ]
    },
    {
      "cell_type": "markdown",
      "source": [
        "6.\tให้เขียนฟังก์ชัน capitalize_word_in_crossword จะรับ list ขนาด 2 มิติ ของตัวอักษร (คล้ายกับเกม cross word) และ word ซึ่งเป็น string เป็น argument โดยฟังก์ชันนี้ จะค้นหาตาม row และ column ของ list เพื่อหาตำแหน่งที่มีอักษรตรงกับคำใน word ถ้าพบจะเปลี่ยนเป็นตัวใหญ่และ และส่งคืน list ที่แก้ไขแล้ว แต่ถ้าไม่เจอจะส่ง list เดิมกลับมา ให้ใช้ฟังก์ชันตามข้อ 3 และ 4 ช่วย\n",
        "\n",
        "```\n",
        "crosswords=[['s','d','o','g'],\n",
        "            ['c','u','c','m'],\n",
        "            ['a','x','a','t'],\n",
        "            ['t','e','t','k']]\n",
        "word='cat'\n",
        "capitalize_word_in_crossword(crosswords,word)\n",
        "```\n",
        "จะส่งค่ากลับ\n",
        "```\n",
        " [['s','d','o','g'],\n",
        "  ['C','u','c','m'],\n",
        "  ['A','x','a','t'],\n",
        "  ['T','e','t','k']]\n",
        "```\n",
        "```\n",
        "crosswords=[['s','d','o','g'],\n",
        "            ['c','u','c','m'],\n",
        "            ['a','c','a','t'],\n",
        "            ['t','e','t','k']]\n",
        "word='cat'\n",
        "capitalize_word_in_crossword(crosswords,word)\n",
        "จะส่งค่ากลับ                   \n",
        "[['s','d','o','g'],\n",
        " ['c','u','c','m'],\n",
        " ['a','C','A','T'],\n",
        " ['t','e','t','k']]\n",
        "```\n",
        "\n",
        "\n"
      ],
      "metadata": {
        "id": "dinoUBQTrDFp"
      }
    },
    {
      "cell_type": "code",
      "source": [
        "def capitalize_word_in_crossword(crosswords, word):\n",
        "    pass"
      ],
      "metadata": {
        "id": "IM99mZNs0css"
      },
      "execution_count": null,
      "outputs": []
    }
  ]
}